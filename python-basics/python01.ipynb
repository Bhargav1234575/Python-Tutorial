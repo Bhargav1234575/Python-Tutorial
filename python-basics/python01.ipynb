{
 "cells": [
  {
   "cell_type": "code",
   "execution_count": 2,
   "metadata": {},
   "outputs": [
    {
     "name": "stdout",
     "output_type": "stream",
     "text": [
      "<class 'int'> <class 'float'> <class 'str'>\n"
     ]
    }
   ],
   "source": [
    "# Variable in python\n",
    "x = 10 # Integer\n",
    "y = 10.1 # float\n",
    "z = \"Sam\" # String\n",
    "\n",
    "print(type(x),type(y),type(z))"
   ]
  },
  {
   "cell_type": "code",
   "execution_count": 12,
   "metadata": {},
   "outputs": [
    {
     "name": "stdout",
     "output_type": "stream",
     "text": [
      "<class 'str'> 10\n",
      "<class 'int'> 10\n"
     ]
    }
   ],
   "source": [
    "# TypeCasting\n",
    "\n",
    "# Float to Int\n",
    "\n",
    "salary = \"10\"\n",
    "print(type(salary),salary)\n",
    "\n",
    "\n",
    "\n",
    "salary = int(salary)\n",
    "print(type(salary),salary)\n"
   ]
  },
  {
   "cell_type": "code",
   "execution_count": 22,
   "metadata": {},
   "outputs": [
    {
     "name": "stdout",
     "output_type": "stream",
     "text": [
      "Jhon\n"
     ]
    }
   ],
   "source": [
    "# Allowed var Names\n",
    "\n",
    "x = 10\n",
    "VAR = 15\n",
    "Var = 10\n",
    "Var01Var = 10\n",
    "Var_10_ = 105\n",
    "_var = \"a\"\n",
    "\n",
    "my_var = \"Jhon\"\n",
    "print(my_var)\n",
    "\n"
   ]
  },
  {
   "cell_type": "code",
   "execution_count": 24,
   "metadata": {},
   "outputs": [],
   "source": [
    "x = 10\n",
    "y = 15\n",
    "z = 15.6"
   ]
  },
  {
   "cell_type": "code",
   "execution_count": 25,
   "metadata": {},
   "outputs": [
    {
     "name": "stdout",
     "output_type": "stream",
     "text": [
      "10 10 10\n"
     ]
    }
   ],
   "source": [
    "x=y=z = 10\n",
    "\n",
    "\n",
    "print(x,y,z)"
   ]
  }
 ],
 "metadata": {
  "kernelspec": {
   "display_name": "Python 3",
   "language": "python",
   "name": "python3"
  },
  "language_info": {
   "codemirror_mode": {
    "name": "ipython",
    "version": 3
   },
   "file_extension": ".py",
   "mimetype": "text/x-python",
   "name": "python",
   "nbconvert_exporter": "python",
   "pygments_lexer": "ipython3",
   "version": "3.10.4"
  },
  "orig_nbformat": 4
 },
 "nbformat": 4,
 "nbformat_minor": 2
}
